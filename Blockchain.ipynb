{
  "nbformat": 4,
  "nbformat_minor": 0,
  "metadata": {
    "colab": {
      "name": "Blockchain.ipynb",
      "provenance": [],
      "collapsed_sections": []
    },
    "kernelspec": {
      "name": "python3",
      "display_name": "Python 3"
    },
    "language_info": {
      "name": "python"
    }
  },
  "cells": [
    {
      "cell_type": "code",
      "execution_count": 2,
      "metadata": {
        "id": "ZUbTqH21gX4Q"
      },
      "outputs": [],
      "source": [
        "# Note from Dr. Givens\n",
        "# Spring Break assignment is to...\n",
        "# (1) Complete the verify function\n",
        "# (2) Play around with adding other types of data (coin transactions??)\n",
        "\n",
        "import datetime as d\n",
        "import hashlib as h"
      ]
    },
    {
      "cell_type": "code",
      "source": [
        "class Block:\n",
        "    def __init__(self, index, timestamp, data, prevhash):\n",
        "        self.index = index\n",
        "        self.timestamp = timestamp\n",
        "        self.data = data\n",
        "        self.prevhash = prevhash\n",
        "        self.hash = self.hashblock()\n",
        "    \n",
        "    def hashblock(self):\n",
        "        block_encryption = h.sha256()\n",
        "        block_encryption.update((str(self.index)+str(self.timestamp)+str(self.data)+str(self.prevhash)).encode())\n",
        "        return block_encryption.hexdigest()\n",
        "\n",
        "    @staticmethod\n",
        "    def genesisblock():\n",
        "        return Block(0,d.datetime.now(),\"genesis block transaction\", \" \")\n",
        "\n",
        "    @staticmethod\n",
        "    def newblock(lastblock, data_):\n",
        "        index = lastblock.index+1\n",
        "        timestamp = d.datetime.now()\n",
        "        hashblock = lastblock.hash\n",
        "        data = data_\n",
        "        return Block(index, timestamp, data, hashblock)\n",
        "    \n",
        "    def __repr__(self):\n",
        "      return \"ID #{}\".format(self.index) \\\n",
        "      + \" \\\\ Timestamp:{}\".format(self.timestamp) \\\n",
        "      + \" \\\\ Hash:{}\".format(self.hash) \\\n",
        "      + \" \\\\ Previous Hash:{}\".format(self.prevhash) \\\n",
        "      + \" \\\\ Data:{}\\n\".format(self.data)"
      ],
      "metadata": {
        "id": "eEytglsugcAe"
      },
      "execution_count": 26,
      "outputs": []
    },
    {
      "cell_type": "code",
      "source": [
        "blockchain = [Block.genesisblock()]\n",
        "prevblock = blockchain[0]"
      ],
      "metadata": {
        "id": "7Qqq6vazg29R"
      },
      "execution_count": 4,
      "outputs": []
    },
    {
      "cell_type": "code",
      "source": [
        "for i in range (0,5):\n",
        "    addblock = Block.newblock(prevblock)\n",
        "    blockchain.append(addblock)\n",
        "    prevblock = addblock\n",
        "\n",
        "    print(\"Block ID #{} \".format(addblock.index))\n",
        "    print(\"Timestamp:{}\".format(addblock.timestamp))\n",
        "    print(\"Hash of the block:{}\".format(addblock.hash))\n",
        "    print(\"Previous Block Hash:{}\".format(addblock.prevhash))\n",
        "    print(\"data:{}\\n\".format(addblock.data))\n"
      ],
      "metadata": {
        "colab": {
          "base_uri": "https://localhost:8080/"
        },
        "id": "fXEvbPAqg_kk",
        "outputId": "195ca722-944d-43bc-c6c6-dc729be8e311"
      },
      "execution_count": 5,
      "outputs": [
        {
          "output_type": "stream",
          "name": "stdout",
          "text": [
            "Block ID #1 \n",
            "Timestamp:2022-03-21 12:59:01.324984\n",
            "Hash of the block:c0a0b030b06e8d01225208665863493253f432556f8766841cca6cbf40e45d88\n",
            "Previous Block Hash:46ca1326134a4aa00534dbccb65fcb957342422b72623f561da125b75806185b\n",
            "data:Transaction 1\n",
            "\n",
            "Block ID #2 \n",
            "Timestamp:2022-03-21 12:59:01.325255\n",
            "Hash of the block:3f64f925cad6904800c2c2a452697eed807807af3cd2ca1ebfd6717116a89fbd\n",
            "Previous Block Hash:c0a0b030b06e8d01225208665863493253f432556f8766841cca6cbf40e45d88\n",
            "data:Transaction 2\n",
            "\n",
            "Block ID #3 \n",
            "Timestamp:2022-03-21 12:59:01.325437\n",
            "Hash of the block:0f14eeca0bc0d1693f2b3aacd1da3144f3b8ca6b8124a76b7e360f2a7eb08fdb\n",
            "Previous Block Hash:3f64f925cad6904800c2c2a452697eed807807af3cd2ca1ebfd6717116a89fbd\n",
            "data:Transaction 3\n",
            "\n",
            "Block ID #4 \n",
            "Timestamp:2022-03-21 12:59:01.326784\n",
            "Hash of the block:6fb589e21b927dc9cc76fd244f427b8b5e45d47d922d2d266ed23a7dbe7066fe\n",
            "Previous Block Hash:0f14eeca0bc0d1693f2b3aacd1da3144f3b8ca6b8124a76b7e360f2a7eb08fdb\n",
            "data:Transaction 4\n",
            "\n",
            "Block ID #5 \n",
            "Timestamp:2022-03-21 12:59:01.326985\n",
            "Hash of the block:d31a06338622cb31e61341fcd4d522209366e451dfc0cccf35ba06a6296012ed\n",
            "Previous Block Hash:6fb589e21b927dc9cc76fd244f427b8b5e45d47d922d2d266ed23a7dbe7066fe\n",
            "data:Transaction 5\n",
            "\n"
          ]
        }
      ]
    },
    {
      "cell_type": "code",
      "source": [
        "blockchain"
      ],
      "metadata": {
        "colab": {
          "base_uri": "https://localhost:8080/"
        },
        "id": "y1LzzUS_uHz_",
        "outputId": "82fd892f-85d0-47a0-ddee-24ffdae10f1f"
      },
      "execution_count": 6,
      "outputs": [
        {
          "output_type": "execute_result",
          "data": {
            "text/plain": [
              "[ID #0 \\ Timestamp:2022-03-21 12:59:01.307746 \\ Hash:46ca1326134a4aa00534dbccb65fcb957342422b72623f561da125b75806185b \\ Previous Hash:  \\ Data:genesis block transaction,\n",
              " ID #1 \\ Timestamp:2022-03-21 12:59:01.324984 \\ Hash:c0a0b030b06e8d01225208665863493253f432556f8766841cca6cbf40e45d88 \\ Previous Hash:46ca1326134a4aa00534dbccb65fcb957342422b72623f561da125b75806185b \\ Data:Transaction 1,\n",
              " ID #2 \\ Timestamp:2022-03-21 12:59:01.325255 \\ Hash:3f64f925cad6904800c2c2a452697eed807807af3cd2ca1ebfd6717116a89fbd \\ Previous Hash:c0a0b030b06e8d01225208665863493253f432556f8766841cca6cbf40e45d88 \\ Data:Transaction 2,\n",
              " ID #3 \\ Timestamp:2022-03-21 12:59:01.325437 \\ Hash:0f14eeca0bc0d1693f2b3aacd1da3144f3b8ca6b8124a76b7e360f2a7eb08fdb \\ Previous Hash:3f64f925cad6904800c2c2a452697eed807807af3cd2ca1ebfd6717116a89fbd \\ Data:Transaction 3,\n",
              " ID #4 \\ Timestamp:2022-03-21 12:59:01.326784 \\ Hash:6fb589e21b927dc9cc76fd244f427b8b5e45d47d922d2d266ed23a7dbe7066fe \\ Previous Hash:0f14eeca0bc0d1693f2b3aacd1da3144f3b8ca6b8124a76b7e360f2a7eb08fdb \\ Data:Transaction 4,\n",
              " ID #5 \\ Timestamp:2022-03-21 12:59:01.326985 \\ Hash:d31a06338622cb31e61341fcd4d522209366e451dfc0cccf35ba06a6296012ed \\ Previous Hash:6fb589e21b927dc9cc76fd244f427b8b5e45d47d922d2d266ed23a7dbe7066fe \\ Data:Transaction 5]"
            ]
          },
          "metadata": {},
          "execution_count": 6
        }
      ]
    },
    {
      "cell_type": "code",
      "source": [
        "def hashblock2(block_):\n",
        "  block_encryption = h.sha256()\n",
        "  block_encryption.update((str(block_.index)+str(block_.timestamp)+str(block_.data)+str(block_.prevhash)).encode())\n",
        "  return block_encryption.hexdigest()\n",
        "\n",
        "def verify(blockchain_):\n",
        "  last_block_hash = \"\"\n",
        "  for i in range(len(blockchain_)):\n",
        "    last_block_hash = hashblock2(blockchain_[i])\n",
        "    # print((\"#\" + str(blockchain_[i].index)+ \" | \" + str(blockchain_[i].timestamp)+ \" | \" + str(blockchain_[i].data)+ \" | Hash: \" + str(last_block_hash)).encode())\n",
        "    if i == (len(blockchain_) - 1):\n",
        "      last_transactions_hash = last_block_hash\n",
        "  if last_transactions_hash == blockchain_[len(blockchain_) - 1].hash:\n",
        "    return True\n",
        "  else:\n",
        "    return False\n",
        "\n",
        "verify(blockchain)"
      ],
      "metadata": {
        "id": "xrJAPDCkuI2m",
        "colab": {
          "base_uri": "https://localhost:8080/"
        },
        "outputId": "2d242146-4229-4620-c2e8-521c0afe8466"
      },
      "execution_count": 7,
      "outputs": [
        {
          "output_type": "execute_result",
          "data": {
            "text/plain": [
              "True"
            ]
          },
          "metadata": {},
          "execution_count": 7
        }
      ]
    },
    {
      "cell_type": "code",
      "source": [
        "Savagecoin = [Block.genesisblock()]\n",
        "prevblock = Savagecoin[0]"
      ],
      "metadata": {
        "id": "0J-KIjHJvWqc"
      },
      "execution_count": 8,
      "outputs": []
    },
    {
      "cell_type": "code",
      "source": [
        "addblock = Block.newblock(prevblock, \"Hello\")\n",
        "Savagecoin.append(addblock)\n",
        "prevblock = addblock"
      ],
      "metadata": {
        "id": "Gkm-Qrzjvkb_"
      },
      "execution_count": 27,
      "outputs": []
    },
    {
      "cell_type": "code",
      "source": [
        "Savagecoin"
      ],
      "metadata": {
        "colab": {
          "base_uri": "https://localhost:8080/"
        },
        "id": "J1WpEJM_wP-w",
        "outputId": "5649ff12-4b76-4d9d-bad1-5e40e234d658"
      },
      "execution_count": 28,
      "outputs": [
        {
          "output_type": "execute_result",
          "data": {
            "text/plain": [
              "[ID #0 \\ Timestamp:2022-03-21 12:59:01.384323 \\ Hash:71ddc09df9cc4abbc813e2a407bcd80fb8b8743b5b54f71b3c7042012d81c417 \\ Previous Hash:  \\ Data:genesis block transaction,\n",
              " ID #1 \\ Timestamp:2022-03-21 12:59:01.394183 \\ Hash:d7093cad108796098422896fd571bf6625c83c9020131211fdc9f1aaf1ebf838 \\ Previous Hash:71ddc09df9cc4abbc813e2a407bcd80fb8b8743b5b54f71b3c7042012d81c417 \\ Data:Transaction 1,\n",
              " ID #2 \\ Timestamp:2022-03-21 12:59:33.957310 \\ Hash:5cda040385ca5271ea1f1195c633ccb905346f853c065d356712fcd276b0ef1a \\ Previous Hash:d7093cad108796098422896fd571bf6625c83c9020131211fdc9f1aaf1ebf838 \\ Data:Transaction 2,\n",
              " ID #3 \\ Timestamp:2022-03-21 12:59:49.666568 \\ Hash:2be7891cdeaf29af6341c3f174fee4fed34a357ab49624fcf48538f1204700fb \\ Previous Hash:5cda040385ca5271ea1f1195c633ccb905346f853c065d356712fcd276b0ef1a \\ Data:Transaction 3,\n",
              " ID #4 \\ Timestamp:2022-03-21 13:05:52.668274 \\ Hash:254a58cff92795b41d02a082db2d85ba62efa167907dd5c8e515bc29a08feadb \\ Previous Hash:2be7891cdeaf29af6341c3f174fee4fed34a357ab49624fcf48538f1204700fb \\ Data:Hello]"
            ]
          },
          "metadata": {},
          "execution_count": 28
        }
      ]
    }
  ]
}